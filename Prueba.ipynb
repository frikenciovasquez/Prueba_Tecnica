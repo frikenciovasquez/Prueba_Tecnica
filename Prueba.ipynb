{
 "cells": [
  {
   "cell_type": "markdown",
   "metadata": {},
   "source": [
    "Se necesita la libreria de Seaborn para la visualizacion de las graficas"
   ]
  },
  {
   "cell_type": "code",
   "execution_count": 1,
   "metadata": {},
   "outputs": [],
   "source": [
    "import pandas as pd\n",
    "import numpy as np"
   ]
  },
  {
   "cell_type": "code",
   "execution_count": 3,
   "metadata": {},
   "outputs": [],
   "source": [
    "data= pd.read_csv(\"C:/Users/Usuario/Documents/Programas/Tratados_internacionales_de_Colombia.csv\")"
   ]
  },
  {
   "cell_type": "code",
   "execution_count": 4,
   "metadata": {},
   "outputs": [],
   "source": [
    "data2= data.replace('(NO REGISTRA)',np.nan)"
   ]
  },
  {
   "cell_type": "code",
   "execution_count": 5,
   "metadata": {
    "scrolled": true
   },
   "outputs": [
    {
     "name": "stdout",
     "output_type": "stream",
     "text": [
      "<class 'pandas.core.frame.DataFrame'>\n",
      "Int64Index: 3022 entries, 0 to 67366\n",
      "Data columns (total 16 columns):\n",
      " #   Column                         Non-Null Count  Dtype \n",
      "---  ------                         --------------  ----- \n",
      " 0   Nombre del Tratado             3022 non-null   object\n",
      " 1   Bilateral                      3022 non-null   object\n",
      " 2   Lugar de Adopcion              3022 non-null   object\n",
      " 3   Fecha de Adopcion              3022 non-null   object\n",
      " 4   Estados-Organismos             3022 non-null   object\n",
      " 5   Temas                          1 non-null      object\n",
      " 6   Naturaleza del Tratado         3022 non-null   object\n",
      " 7   Depositario                    804 non-null    object\n",
      " 8   Suscribio Por Colombia         2279 non-null   object\n",
      " 9   Vigente                        3022 non-null   object\n",
      " 10  Fecha Ley Aprobatoria          1029 non-null   object\n",
      " 11  Numero Ley Aprobatoria         1062 non-null   object\n",
      " 12  Sentencia Fecha Ley            2331 non-null   object\n",
      " 13  Sentencia Numero               493 non-null    object\n",
      " 14  Decreto Fecha Diario Oficial   544 non-null    object\n",
      " 15  Decreto Numero Diario Oficial  557 non-null    object\n",
      "dtypes: object(16)\n",
      "memory usage: 401.4+ KB\n"
     ]
    }
   ],
   "source": [
    "data3=data2.drop_duplicates()\n",
    "data3.info()\n"
   ]
  },
  {
   "cell_type": "markdown",
   "metadata": {},
   "source": [
    "Durante un primer vistazo de los datos se noto que habia muchos datos repetidos y a su vez habia tambien habia datos faltantes, se procedio a categorizar estos datos que no registran como datos nulos y eliminar los datos repetidos, de igual manera se procedio a categorizar los datos de fechas a su correspondiente categoria para poder trabajar con un dataset limpio"
   ]
  },
  {
   "cell_type": "code",
   "execution_count": 6,
   "metadata": {},
   "outputs": [
    {
     "name": "stderr",
     "output_type": "stream",
     "text": [
      "C:\\Users\\Usuario\\AppData\\Local\\Temp/ipykernel_14696/101609770.py:1: SettingWithCopyWarning: \n",
      "A value is trying to be set on a copy of a slice from a DataFrame.\n",
      "Try using .loc[row_indexer,col_indexer] = value instead\n",
      "\n",
      "See the caveats in the documentation: https://pandas.pydata.org/pandas-docs/stable/user_guide/indexing.html#returning-a-view-versus-a-copy\n",
      "  data3['Fecha Ley Aprobatoria']=pd.to_datetime(data3['Fecha Ley Aprobatoria'],format='%d/%m/%Y')\n"
     ]
    }
   ],
   "source": [
    "data3['Fecha Ley Aprobatoria']=pd.to_datetime(data3['Fecha Ley Aprobatoria'],format='%d/%m/%Y')\n"
   ]
  },
  {
   "cell_type": "code",
   "execution_count": 7,
   "metadata": {},
   "outputs": [
    {
     "name": "stderr",
     "output_type": "stream",
     "text": [
      "C:\\Users\\Usuario\\AppData\\Local\\Temp/ipykernel_14696/144531257.py:1: SettingWithCopyWarning: \n",
      "A value is trying to be set on a copy of a slice from a DataFrame.\n",
      "Try using .loc[row_indexer,col_indexer] = value instead\n",
      "\n",
      "See the caveats in the documentation: https://pandas.pydata.org/pandas-docs/stable/user_guide/indexing.html#returning-a-view-versus-a-copy\n",
      "  data3['Fecha de Adopcion']=pd.to_datetime(data3['Fecha de Adopcion'],format='%d/%m/%Y',errors='coerce')\n"
     ]
    }
   ],
   "source": [
    "data3['Fecha de Adopcion']=pd.to_datetime(data3['Fecha de Adopcion'],format='%d/%m/%Y',errors='coerce')"
   ]
  },
  {
   "cell_type": "code",
   "execution_count": 8,
   "metadata": {},
   "outputs": [],
   "source": [
    "Datos=data3[['Estados-Organismos','Depositario','Fecha Ley Aprobatoria','Vigente','Bilateral','Fecha de Adopcion']]"
   ]
  },
  {
   "cell_type": "code",
   "execution_count": 9,
   "metadata": {
    "scrolled": false
   },
   "outputs": [
    {
     "name": "stderr",
     "output_type": "stream",
     "text": [
      "C:\\Users\\Usuario\\AppData\\Local\\Temp/ipykernel_14696/739792055.py:1: SettingWithCopyWarning: \n",
      "A value is trying to be set on a copy of a slice from a DataFrame.\n",
      "Try using .loc[row_indexer,col_indexer] = value instead\n",
      "\n",
      "See the caveats in the documentation: https://pandas.pydata.org/pandas-docs/stable/user_guide/indexing.html#returning-a-view-versus-a-copy\n",
      "  Datos['Anio_Aprobacion']=Datos['Fecha Ley Aprobatoria'].dt.year\n"
     ]
    }
   ],
   "source": [
    "Datos['Anio_Aprobacion']=Datos['Fecha Ley Aprobatoria'].dt.year"
   ]
  },
  {
   "cell_type": "code",
   "execution_count": 10,
   "metadata": {
    "scrolled": false
   },
   "outputs": [
    {
     "name": "stderr",
     "output_type": "stream",
     "text": [
      "C:\\Users\\Usuario\\AppData\\Local\\Temp/ipykernel_14696/3075716918.py:1: SettingWithCopyWarning: \n",
      "A value is trying to be set on a copy of a slice from a DataFrame.\n",
      "Try using .loc[row_indexer,col_indexer] = value instead\n",
      "\n",
      "See the caveats in the documentation: https://pandas.pydata.org/pandas-docs/stable/user_guide/indexing.html#returning-a-view-versus-a-copy\n",
      "  Datos['Anio_Adopcion']=Datos['Fecha de Adopcion'].dt.year\n"
     ]
    }
   ],
   "source": [
    "Datos['Anio_Adopcion']=Datos['Fecha de Adopcion'].dt.year"
   ]
  },
  {
   "cell_type": "code",
   "execution_count": 11,
   "metadata": {
    "scrolled": false
   },
   "outputs": [
    {
     "name": "stdout",
     "output_type": "stream",
     "text": [
      "<class 'pandas.core.frame.DataFrame'>\n",
      "Int64Index: 3022 entries, 0 to 67366\n",
      "Data columns (total 8 columns):\n",
      " #   Column                 Non-Null Count  Dtype         \n",
      "---  ------                 --------------  -----         \n",
      " 0   Estados-Organismos     3022 non-null   object        \n",
      " 1   Depositario            804 non-null    object        \n",
      " 2   Fecha Ley Aprobatoria  1029 non-null   datetime64[ns]\n",
      " 3   Vigente                3022 non-null   object        \n",
      " 4   Bilateral              3022 non-null   object        \n",
      " 5   Fecha de Adopcion      3020 non-null   datetime64[ns]\n",
      " 6   Anio_Aprobacion        1029 non-null   float64       \n",
      " 7   Anio_Adopcion          3020 non-null   float64       \n",
      "dtypes: datetime64[ns](2), float64(2), object(4)\n",
      "memory usage: 212.5+ KB\n"
     ]
    }
   ],
   "source": [
    "Datos.info()"
   ]
  },
  {
   "cell_type": "code",
   "execution_count": 12,
   "metadata": {
    "scrolled": false
   },
   "outputs": [
    {
     "data": {
      "text/html": [
       "<div>\n",
       "<style scoped>\n",
       "    .dataframe tbody tr th:only-of-type {\n",
       "        vertical-align: middle;\n",
       "    }\n",
       "\n",
       "    .dataframe tbody tr th {\n",
       "        vertical-align: top;\n",
       "    }\n",
       "\n",
       "    .dataframe thead th {\n",
       "        text-align: right;\n",
       "    }\n",
       "</style>\n",
       "<table border=\"1\" class=\"dataframe\">\n",
       "  <thead>\n",
       "    <tr style=\"text-align: right;\">\n",
       "      <th></th>\n",
       "      <th>Estados-Organismos</th>\n",
       "      <th>Depositario</th>\n",
       "      <th>Fecha Ley Aprobatoria</th>\n",
       "      <th>Vigente</th>\n",
       "      <th>Bilateral</th>\n",
       "      <th>Fecha de Adopcion</th>\n",
       "      <th>Anio_Aprobacion</th>\n",
       "      <th>Anio_Adopcion</th>\n",
       "    </tr>\n",
       "  </thead>\n",
       "  <tbody>\n",
       "    <tr>\n",
       "      <th>0</th>\n",
       "      <td>ORGANIZACIÓN DE ESTADOS AMERICANOS-OEA</td>\n",
       "      <td>ORGANIZACIÓN DE ESTADOS AMERICANOS-OEA</td>\n",
       "      <td>1931-05-27</td>\n",
       "      <td>SI</td>\n",
       "      <td>NO</td>\n",
       "      <td>1928-02-20</td>\n",
       "      <td>1931.0</td>\n",
       "      <td>1928.0</td>\n",
       "    </tr>\n",
       "    <tr>\n",
       "      <th>1</th>\n",
       "      <td>SUECIA</td>\n",
       "      <td>NaN</td>\n",
       "      <td>1928-10-09</td>\n",
       "      <td>SI</td>\n",
       "      <td>SI</td>\n",
       "      <td>1928-03-09</td>\n",
       "      <td>1928.0</td>\n",
       "      <td>1928.0</td>\n",
       "    </tr>\n",
       "    <tr>\n",
       "      <th>2</th>\n",
       "      <td>INSTITUTO LATINOAMERICANO DE LAS NACIONES UNID...</td>\n",
       "      <td>NaN</td>\n",
       "      <td>1989-10-04</td>\n",
       "      <td>SI</td>\n",
       "      <td>SI</td>\n",
       "      <td>1988-06-07</td>\n",
       "      <td>1989.0</td>\n",
       "      <td>1988.0</td>\n",
       "    </tr>\n",
       "    <tr>\n",
       "      <th>3</th>\n",
       "      <td>ALEMANIA</td>\n",
       "      <td>NaN</td>\n",
       "      <td>NaT</td>\n",
       "      <td>SI</td>\n",
       "      <td>SI</td>\n",
       "      <td>1991-11-01</td>\n",
       "      <td>NaN</td>\n",
       "      <td>1991.0</td>\n",
       "    </tr>\n",
       "    <tr>\n",
       "      <th>4</th>\n",
       "      <td>ORGANIZACIÓN PARA LA COOEPRACION Y EL DESARROL...</td>\n",
       "      <td>NaN</td>\n",
       "      <td>NaT</td>\n",
       "      <td>NO</td>\n",
       "      <td>NO</td>\n",
       "      <td>2017-06-07</td>\n",
       "      <td>NaN</td>\n",
       "      <td>2017.0</td>\n",
       "    </tr>\n",
       "  </tbody>\n",
       "</table>\n",
       "</div>"
      ],
      "text/plain": [
       "                                  Estados-Organismos  \\\n",
       "0             ORGANIZACIÓN DE ESTADOS AMERICANOS-OEA   \n",
       "1                                             SUECIA   \n",
       "2  INSTITUTO LATINOAMERICANO DE LAS NACIONES UNID...   \n",
       "3                                           ALEMANIA   \n",
       "4  ORGANIZACIÓN PARA LA COOEPRACION Y EL DESARROL...   \n",
       "\n",
       "                              Depositario Fecha Ley Aprobatoria Vigente  \\\n",
       "0  ORGANIZACIÓN DE ESTADOS AMERICANOS-OEA            1931-05-27      SI   \n",
       "1                                     NaN            1928-10-09      SI   \n",
       "2                                     NaN            1989-10-04      SI   \n",
       "3                                     NaN                   NaT      SI   \n",
       "4                                     NaN                   NaT      NO   \n",
       "\n",
       "  Bilateral Fecha de Adopcion  Anio_Aprobacion  Anio_Adopcion  \n",
       "0        NO        1928-02-20           1931.0         1928.0  \n",
       "1        SI        1928-03-09           1928.0         1928.0  \n",
       "2        SI        1988-06-07           1989.0         1988.0  \n",
       "3        SI        1991-11-01              NaN         1991.0  \n",
       "4        NO        2017-06-07              NaN         2017.0  "
      ]
     },
     "execution_count": 12,
     "metadata": {},
     "output_type": "execute_result"
    }
   ],
   "source": [
    "Datos.head()"
   ]
  },
  {
   "cell_type": "code",
   "execution_count": 13,
   "metadata": {
    "collapsed": true
   },
   "outputs": [
    {
     "name": "stdout",
     "output_type": "stream",
     "text": [
      "<class 'pandas.core.frame.DataFrame'>\n",
      "RangeIndex: 241 entries, 0 to 240\n",
      "Data columns (total 3 columns):\n",
      " #   Column         Non-Null Count  Dtype  \n",
      "---  ------         --------------  -----  \n",
      " 0   Vigente        241 non-null    object \n",
      " 1   Anio_Adopcion  241 non-null    float64\n",
      " 2   Bilateral      241 non-null    int64  \n",
      "dtypes: float64(1), int64(1), object(1)\n",
      "memory usage: 5.8+ KB\n"
     ]
    },
    {
     "data": {
      "text/html": [
       "<div>\n",
       "<style scoped>\n",
       "    .dataframe tbody tr th:only-of-type {\n",
       "        vertical-align: middle;\n",
       "    }\n",
       "\n",
       "    .dataframe tbody tr th {\n",
       "        vertical-align: top;\n",
       "    }\n",
       "\n",
       "    .dataframe thead th {\n",
       "        text-align: right;\n",
       "    }\n",
       "</style>\n",
       "<table border=\"1\" class=\"dataframe\">\n",
       "  <thead>\n",
       "    <tr style=\"text-align: right;\">\n",
       "      <th></th>\n",
       "      <th>Vigente</th>\n",
       "      <th>Anio_Adopcion</th>\n",
       "      <th>Bilateral</th>\n",
       "    </tr>\n",
       "  </thead>\n",
       "  <tbody>\n",
       "    <tr>\n",
       "      <th>0</th>\n",
       "      <td>NO</td>\n",
       "      <td>1825.0</td>\n",
       "      <td>1</td>\n",
       "    </tr>\n",
       "    <tr>\n",
       "      <th>1</th>\n",
       "      <td>NO</td>\n",
       "      <td>1847.0</td>\n",
       "      <td>1</td>\n",
       "    </tr>\n",
       "    <tr>\n",
       "      <th>2</th>\n",
       "      <td>NO</td>\n",
       "      <td>1864.0</td>\n",
       "      <td>1</td>\n",
       "    </tr>\n",
       "    <tr>\n",
       "      <th>3</th>\n",
       "      <td>NO</td>\n",
       "      <td>1866.0</td>\n",
       "      <td>1</td>\n",
       "    </tr>\n",
       "    <tr>\n",
       "      <th>4</th>\n",
       "      <td>NO</td>\n",
       "      <td>1870.0</td>\n",
       "      <td>1</td>\n",
       "    </tr>\n",
       "    <tr>\n",
       "      <th>...</th>\n",
       "      <td>...</td>\n",
       "      <td>...</td>\n",
       "      <td>...</td>\n",
       "    </tr>\n",
       "    <tr>\n",
       "      <th>236</th>\n",
       "      <td>SI</td>\n",
       "      <td>2016.0</td>\n",
       "      <td>21</td>\n",
       "    </tr>\n",
       "    <tr>\n",
       "      <th>237</th>\n",
       "      <td>SI</td>\n",
       "      <td>2017.0</td>\n",
       "      <td>12</td>\n",
       "    </tr>\n",
       "    <tr>\n",
       "      <th>238</th>\n",
       "      <td>SI</td>\n",
       "      <td>2018.0</td>\n",
       "      <td>20</td>\n",
       "    </tr>\n",
       "    <tr>\n",
       "      <th>239</th>\n",
       "      <td>SI</td>\n",
       "      <td>2019.0</td>\n",
       "      <td>11</td>\n",
       "    </tr>\n",
       "    <tr>\n",
       "      <th>240</th>\n",
       "      <td>SI</td>\n",
       "      <td>2020.0</td>\n",
       "      <td>11</td>\n",
       "    </tr>\n",
       "  </tbody>\n",
       "</table>\n",
       "<p>241 rows × 3 columns</p>\n",
       "</div>"
      ],
      "text/plain": [
       "    Vigente  Anio_Adopcion  Bilateral\n",
       "0        NO         1825.0          1\n",
       "1        NO         1847.0          1\n",
       "2        NO         1864.0          1\n",
       "3        NO         1866.0          1\n",
       "4        NO         1870.0          1\n",
       "..      ...            ...        ...\n",
       "236      SI         2016.0         21\n",
       "237      SI         2017.0         12\n",
       "238      SI         2018.0         20\n",
       "239      SI         2019.0         11\n",
       "240      SI         2020.0         11\n",
       "\n",
       "[241 rows x 3 columns]"
      ]
     },
     "execution_count": 13,
     "metadata": {},
     "output_type": "execute_result"
    }
   ],
   "source": [
    "prueba1= Datos.groupby(['Vigente','Anio_Adopcion'],as_index=True).agg({'Bilateral':'count'})\n",
    "prueba1=prueba1.reset_index()\n",
    "prueba1.info()\n",
    "prueba1"
   ]
  },
  {
   "cell_type": "code",
   "execution_count": 14,
   "metadata": {
    "collapsed": true
   },
   "outputs": [
    {
     "data": {
      "text/html": [
       "<div>\n",
       "<style scoped>\n",
       "    .dataframe tbody tr th:only-of-type {\n",
       "        vertical-align: middle;\n",
       "    }\n",
       "\n",
       "    .dataframe tbody tr th {\n",
       "        vertical-align: top;\n",
       "    }\n",
       "\n",
       "    .dataframe thead th {\n",
       "        text-align: right;\n",
       "    }\n",
       "</style>\n",
       "<table border=\"1\" class=\"dataframe\">\n",
       "  <thead>\n",
       "    <tr style=\"text-align: right;\">\n",
       "      <th></th>\n",
       "      <th>Estados-Organismos</th>\n",
       "      <th>Acuerdos</th>\n",
       "    </tr>\n",
       "  </thead>\n",
       "  <tbody>\n",
       "    <tr>\n",
       "      <th>0</th>\n",
       "      <td>ACCION DE SISTEMAS INFORMATIVOS NACIONALES-ASIN</td>\n",
       "      <td>9</td>\n",
       "    </tr>\n",
       "    <tr>\n",
       "      <th>1</th>\n",
       "      <td>ACUERDO EUROPEO DE LIBRE COMERCIO -AELC</td>\n",
       "      <td>4</td>\n",
       "    </tr>\n",
       "    <tr>\n",
       "      <th>2</th>\n",
       "      <td>ACUERDO EUROPEO DE LIBRE COMERCIO -AELCNORUEGA</td>\n",
       "      <td>1</td>\n",
       "    </tr>\n",
       "    <tr>\n",
       "      <th>3</th>\n",
       "      <td>AGENCIA INTERNACIONAL DE ENERGIAS RENOVABLES-I...</td>\n",
       "      <td>1</td>\n",
       "    </tr>\n",
       "    <tr>\n",
       "      <th>4</th>\n",
       "      <td>ALEMANIA</td>\n",
       "      <td>161</td>\n",
       "    </tr>\n",
       "    <tr>\n",
       "      <th>...</th>\n",
       "      <td>...</td>\n",
       "      <td>...</td>\n",
       "    </tr>\n",
       "    <tr>\n",
       "      <th>274</th>\n",
       "      <td>VENEZUELABRASILECUADORPERU</td>\n",
       "      <td>1</td>\n",
       "    </tr>\n",
       "    <tr>\n",
       "      <th>275</th>\n",
       "      <td>VENEZUELAECUADOR</td>\n",
       "      <td>1</td>\n",
       "    </tr>\n",
       "    <tr>\n",
       "      <th>276</th>\n",
       "      <td>VENEZUELAMEXICO</td>\n",
       "      <td>1</td>\n",
       "    </tr>\n",
       "    <tr>\n",
       "      <th>277</th>\n",
       "      <td>VIETNAM</td>\n",
       "      <td>1</td>\n",
       "    </tr>\n",
       "    <tr>\n",
       "      <th>278</th>\n",
       "      <td>YUGOSLAVIA</td>\n",
       "      <td>6</td>\n",
       "    </tr>\n",
       "  </tbody>\n",
       "</table>\n",
       "<p>279 rows × 2 columns</p>\n",
       "</div>"
      ],
      "text/plain": [
       "                                    Estados-Organismos  Acuerdos\n",
       "0      ACCION DE SISTEMAS INFORMATIVOS NACIONALES-ASIN         9\n",
       "1              ACUERDO EUROPEO DE LIBRE COMERCIO -AELC         4\n",
       "2       ACUERDO EUROPEO DE LIBRE COMERCIO -AELCNORUEGA         1\n",
       "3    AGENCIA INTERNACIONAL DE ENERGIAS RENOVABLES-I...         1\n",
       "4                                             ALEMANIA       161\n",
       "..                                                 ...       ...\n",
       "274                         VENEZUELABRASILECUADORPERU         1\n",
       "275                                   VENEZUELAECUADOR         1\n",
       "276                                    VENEZUELAMEXICO         1\n",
       "277                                            VIETNAM         1\n",
       "278                                         YUGOSLAVIA         6\n",
       "\n",
       "[279 rows x 2 columns]"
      ]
     },
     "execution_count": 14,
     "metadata": {},
     "output_type": "execute_result"
    }
   ],
   "source": [
    "prueba2= pd.pivot_table(data=Datos,index='Estados-Organismos',aggfunc='count')\n",
    "prueba2=prueba2.reset_index()\n",
    "prueba2=prueba2.rename(columns={'Vigente':'Acuerdos'})\n",
    "prueba2[['Estados-Organismos','Acuerdos']]\n"
   ]
  },
  {
   "cell_type": "code",
   "execution_count": 15,
   "metadata": {},
   "outputs": [
    {
     "data": {
      "text/html": [
       "<div>\n",
       "<style scoped>\n",
       "    .dataframe tbody tr th:only-of-type {\n",
       "        vertical-align: middle;\n",
       "    }\n",
       "\n",
       "    .dataframe tbody tr th {\n",
       "        vertical-align: top;\n",
       "    }\n",
       "\n",
       "    .dataframe thead th {\n",
       "        text-align: right;\n",
       "    }\n",
       "</style>\n",
       "<table border=\"1\" class=\"dataframe\">\n",
       "  <thead>\n",
       "    <tr style=\"text-align: right;\">\n",
       "      <th></th>\n",
       "      <th>Estados-Organismos</th>\n",
       "      <th>Vigente</th>\n",
       "    </tr>\n",
       "  </thead>\n",
       "  <tbody>\n",
       "    <tr>\n",
       "      <th>0</th>\n",
       "      <td>885</td>\n",
       "      <td>NO</td>\n",
       "    </tr>\n",
       "    <tr>\n",
       "      <th>1</th>\n",
       "      <td>2137</td>\n",
       "      <td>SI</td>\n",
       "    </tr>\n",
       "  </tbody>\n",
       "</table>\n",
       "</div>"
      ],
      "text/plain": [
       "   Estados-Organismos Vigente\n",
       "0                 885      NO\n",
       "1                2137      SI"
      ]
     },
     "execution_count": 15,
     "metadata": {},
     "output_type": "execute_result"
    }
   ],
   "source": [
    "prueba4= pd.pivot_table(data=Datos,index=['Vigente'],aggfunc='count')\n",
    "prueba4=prueba4.reset_index()\n",
    "prueba4\n",
    "prueba4[['Estados-Organismos','Vigente']]"
   ]
  },
  {
   "cell_type": "code",
   "execution_count": 16,
   "metadata": {
    "collapsed": true
   },
   "outputs": [
    {
     "data": {
      "text/html": [
       "<div>\n",
       "<style scoped>\n",
       "    .dataframe tbody tr th:only-of-type {\n",
       "        vertical-align: middle;\n",
       "    }\n",
       "\n",
       "    .dataframe tbody tr th {\n",
       "        vertical-align: top;\n",
       "    }\n",
       "\n",
       "    .dataframe thead th {\n",
       "        text-align: right;\n",
       "    }\n",
       "</style>\n",
       "<table border=\"1\" class=\"dataframe\">\n",
       "  <thead>\n",
       "    <tr style=\"text-align: right;\">\n",
       "      <th></th>\n",
       "      <th>Anio_Aprobacion</th>\n",
       "      <th>Anio_Adopcion</th>\n",
       "      <th>Total</th>\n",
       "    </tr>\n",
       "  </thead>\n",
       "  <tbody>\n",
       "    <tr>\n",
       "      <th>0</th>\n",
       "      <td>1881.0</td>\n",
       "      <td>1880.0</td>\n",
       "      <td>2</td>\n",
       "    </tr>\n",
       "    <tr>\n",
       "      <th>1</th>\n",
       "      <td>1881.0</td>\n",
       "      <td>1881.0</td>\n",
       "      <td>1</td>\n",
       "    </tr>\n",
       "    <tr>\n",
       "      <th>2</th>\n",
       "      <td>1882.0</td>\n",
       "      <td>1881.0</td>\n",
       "      <td>1</td>\n",
       "    </tr>\n",
       "    <tr>\n",
       "      <th>3</th>\n",
       "      <td>1886.0</td>\n",
       "      <td>1885.0</td>\n",
       "      <td>1</td>\n",
       "    </tr>\n",
       "    <tr>\n",
       "      <th>4</th>\n",
       "      <td>1886.0</td>\n",
       "      <td>1886.0</td>\n",
       "      <td>1</td>\n",
       "    </tr>\n",
       "    <tr>\n",
       "      <th>...</th>\n",
       "      <td>...</td>\n",
       "      <td>...</td>\n",
       "      <td>...</td>\n",
       "    </tr>\n",
       "    <tr>\n",
       "      <th>534</th>\n",
       "      <td>2018.0</td>\n",
       "      <td>2016.0</td>\n",
       "      <td>6</td>\n",
       "    </tr>\n",
       "    <tr>\n",
       "      <th>535</th>\n",
       "      <td>2019.0</td>\n",
       "      <td>1960.0</td>\n",
       "      <td>1</td>\n",
       "    </tr>\n",
       "    <tr>\n",
       "      <th>536</th>\n",
       "      <td>2019.0</td>\n",
       "      <td>2012.0</td>\n",
       "      <td>2</td>\n",
       "    </tr>\n",
       "    <tr>\n",
       "      <th>537</th>\n",
       "      <td>2019.0</td>\n",
       "      <td>2016.0</td>\n",
       "      <td>1</td>\n",
       "    </tr>\n",
       "    <tr>\n",
       "      <th>538</th>\n",
       "      <td>2019.0</td>\n",
       "      <td>2018.0</td>\n",
       "      <td>2</td>\n",
       "    </tr>\n",
       "  </tbody>\n",
       "</table>\n",
       "<p>539 rows × 3 columns</p>\n",
       "</div>"
      ],
      "text/plain": [
       "     Anio_Aprobacion  Anio_Adopcion  Total\n",
       "0             1881.0         1880.0      2\n",
       "1             1881.0         1881.0      1\n",
       "2             1882.0         1881.0      1\n",
       "3             1886.0         1885.0      1\n",
       "4             1886.0         1886.0      1\n",
       "..               ...            ...    ...\n",
       "534           2018.0         2016.0      6\n",
       "535           2019.0         1960.0      1\n",
       "536           2019.0         2012.0      2\n",
       "537           2019.0         2016.0      1\n",
       "538           2019.0         2018.0      2\n",
       "\n",
       "[539 rows x 3 columns]"
      ]
     },
     "execution_count": 16,
     "metadata": {},
     "output_type": "execute_result"
    }
   ],
   "source": [
    "prueba5= pd.pivot_table(data=Datos,index=['Anio_Aprobacion','Anio_Adopcion'],aggfunc='count')\n",
    "prueba5=prueba5.reset_index()\n",
    "prueba5=prueba5.rename(columns={'Bilateral':'Total'})\n",
    "prueba5[['Anio_Aprobacion','Anio_Adopcion','Total']]"
   ]
  },
  {
   "cell_type": "code",
   "execution_count": 17,
   "metadata": {
    "collapsed": true
   },
   "outputs": [
    {
     "name": "stdout",
     "output_type": "stream",
     "text": [
      "<class 'pandas.core.frame.DataFrame'>\n",
      "RangeIndex: 142 entries, 0 to 141\n",
      "Data columns (total 2 columns):\n",
      " #   Column         Non-Null Count  Dtype  \n",
      "---  ------         --------------  -----  \n",
      " 0   Anio_Adopcion  142 non-null    float64\n",
      " 1   Vigente        142 non-null    int64  \n",
      "dtypes: float64(1), int64(1)\n",
      "memory usage: 2.3 KB\n"
     ]
    },
    {
     "data": {
      "text/html": [
       "<div>\n",
       "<style scoped>\n",
       "    .dataframe tbody tr th:only-of-type {\n",
       "        vertical-align: middle;\n",
       "    }\n",
       "\n",
       "    .dataframe tbody tr th {\n",
       "        vertical-align: top;\n",
       "    }\n",
       "\n",
       "    .dataframe thead th {\n",
       "        text-align: right;\n",
       "    }\n",
       "</style>\n",
       "<table border=\"1\" class=\"dataframe\">\n",
       "  <thead>\n",
       "    <tr style=\"text-align: right;\">\n",
       "      <th></th>\n",
       "      <th>Anio_Adopcion</th>\n",
       "      <th>Vigente</th>\n",
       "    </tr>\n",
       "  </thead>\n",
       "  <tbody>\n",
       "    <tr>\n",
       "      <th>0</th>\n",
       "      <td>1823.0</td>\n",
       "      <td>2</td>\n",
       "    </tr>\n",
       "    <tr>\n",
       "      <th>1</th>\n",
       "      <td>1825.0</td>\n",
       "      <td>1</td>\n",
       "    </tr>\n",
       "    <tr>\n",
       "      <th>2</th>\n",
       "      <td>1829.0</td>\n",
       "      <td>1</td>\n",
       "    </tr>\n",
       "    <tr>\n",
       "      <th>3</th>\n",
       "      <td>1846.0</td>\n",
       "      <td>1</td>\n",
       "    </tr>\n",
       "    <tr>\n",
       "      <th>4</th>\n",
       "      <td>1847.0</td>\n",
       "      <td>2</td>\n",
       "    </tr>\n",
       "    <tr>\n",
       "      <th>...</th>\n",
       "      <td>...</td>\n",
       "      <td>...</td>\n",
       "    </tr>\n",
       "    <tr>\n",
       "      <th>137</th>\n",
       "      <td>2016.0</td>\n",
       "      <td>42</td>\n",
       "    </tr>\n",
       "    <tr>\n",
       "      <th>138</th>\n",
       "      <td>2017.0</td>\n",
       "      <td>30</td>\n",
       "    </tr>\n",
       "    <tr>\n",
       "      <th>139</th>\n",
       "      <td>2018.0</td>\n",
       "      <td>34</td>\n",
       "    </tr>\n",
       "    <tr>\n",
       "      <th>140</th>\n",
       "      <td>2019.0</td>\n",
       "      <td>32</td>\n",
       "    </tr>\n",
       "    <tr>\n",
       "      <th>141</th>\n",
       "      <td>2020.0</td>\n",
       "      <td>12</td>\n",
       "    </tr>\n",
       "  </tbody>\n",
       "</table>\n",
       "<p>142 rows × 2 columns</p>\n",
       "</div>"
      ],
      "text/plain": [
       "     Anio_Adopcion  Vigente\n",
       "0           1823.0        2\n",
       "1           1825.0        1\n",
       "2           1829.0        1\n",
       "3           1846.0        1\n",
       "4           1847.0        2\n",
       "..             ...      ...\n",
       "137         2016.0       42\n",
       "138         2017.0       30\n",
       "139         2018.0       34\n",
       "140         2019.0       32\n",
       "141         2020.0       12\n",
       "\n",
       "[142 rows x 2 columns]"
      ]
     },
     "execution_count": 17,
     "metadata": {},
     "output_type": "execute_result"
    }
   ],
   "source": [
    "prueba8= Datos.groupby(['Anio_Adopcion'],as_index=True).agg({'Vigente':'count'})\n",
    "prueba8=prueba8.reset_index()\n",
    "prueba8.info()\n",
    "prueba8"
   ]
  },
  {
   "cell_type": "code",
   "execution_count": 19,
   "metadata": {},
   "outputs": [],
   "source": [
    "## import numpy as np\n",
    "import pandas as pd\n",
    "import seaborn as sns\n",
    "import matplotlib.pyplot as plt\n"
   ]
  },
  {
   "cell_type": "code",
   "execution_count": 20,
   "metadata": {
    "collapsed": true
   },
   "outputs": [
    {
     "data": {
      "image/png": "[encoded data removed]",
      "text/plain": [
       "<Figure size 1080x576 with 1 Axes>"
      ]
     },
     "metadata": {
      "needs_background": "light"
     },
     "output_type": "display_data"
    }
   ],
   "source": [
    "plt.figure(figsize=(15,8))\n",
    "g=sns.histplot(data=prueba2,x='Acuerdos')"
   ]
  },
  {
   "cell_type": "code",
   "execution_count": 21,
   "metadata": {
    "collapsed": true
   },
   "outputs": [
    {
     "data": {
      "text/html": [
       "<div>\n",
       "<style scoped>\n",
       "    .dataframe tbody tr th:only-of-type {\n",
       "        vertical-align: middle;\n",
       "    }\n",
       "\n",
       "    .dataframe tbody tr th {\n",
       "        vertical-align: top;\n",
       "    }\n",
       "\n",
       "    .dataframe thead th {\n",
       "        text-align: right;\n",
       "    }\n",
       "</style>\n",
       "<table border=\"1\" class=\"dataframe\">\n",
       "  <thead>\n",
       "    <tr style=\"text-align: right;\">\n",
       "      <th></th>\n",
       "      <th>Estados-Organismos</th>\n",
       "      <th>Acuerdos</th>\n",
       "    </tr>\n",
       "  </thead>\n",
       "  <tbody>\n",
       "    <tr>\n",
       "      <th>4</th>\n",
       "      <td>ALEMANIA</td>\n",
       "      <td>161</td>\n",
       "    </tr>\n",
       "    <tr>\n",
       "      <th>39</th>\n",
       "      <td>BRASIL</td>\n",
       "      <td>139</td>\n",
       "    </tr>\n",
       "    <tr>\n",
       "      <th>53</th>\n",
       "      <td>CHILE</td>\n",
       "      <td>57</td>\n",
       "    </tr>\n",
       "    <tr>\n",
       "      <th>78</th>\n",
       "      <td>COMUNIDAD EUROPEA</td>\n",
       "      <td>60</td>\n",
       "    </tr>\n",
       "    <tr>\n",
       "      <th>98</th>\n",
       "      <td>ECUADOR</td>\n",
       "      <td>101</td>\n",
       "    </tr>\n",
       "    <tr>\n",
       "      <th>111</th>\n",
       "      <td>ESPAÑA</td>\n",
       "      <td>55</td>\n",
       "    </tr>\n",
       "    <tr>\n",
       "      <th>112</th>\n",
       "      <td>ESTADOS UNIDOS DE AMERICA</td>\n",
       "      <td>256</td>\n",
       "    </tr>\n",
       "    <tr>\n",
       "      <th>149</th>\n",
       "      <td>ITALIA</td>\n",
       "      <td>53</td>\n",
       "    </tr>\n",
       "    <tr>\n",
       "      <th>151</th>\n",
       "      <td>JAPON</td>\n",
       "      <td>65</td>\n",
       "    </tr>\n",
       "    <tr>\n",
       "      <th>189</th>\n",
       "      <td>ORGANIZACIÓN DE ESTADOS AMERICANOS-OEA</td>\n",
       "      <td>115</td>\n",
       "    </tr>\n",
       "    <tr>\n",
       "      <th>196</th>\n",
       "      <td>ORGANIZACIÓN DE LAS NACIONES UNIDAS-ONU</td>\n",
       "      <td>160</td>\n",
       "    </tr>\n",
       "    <tr>\n",
       "      <th>204</th>\n",
       "      <td>ORGANIZACIÓN INTERNACIONAL DEL TRABAJO-OIT</td>\n",
       "      <td>71</td>\n",
       "    </tr>\n",
       "    <tr>\n",
       "      <th>209</th>\n",
       "      <td>ORGANIZACIÓN MARITIMA INTERNACIONAL-OMI</td>\n",
       "      <td>56</td>\n",
       "    </tr>\n",
       "    <tr>\n",
       "      <th>222</th>\n",
       "      <td>PAISES BAJOS</td>\n",
       "      <td>57</td>\n",
       "    </tr>\n",
       "    <tr>\n",
       "      <th>226</th>\n",
       "      <td>PERU</td>\n",
       "      <td>87</td>\n",
       "    </tr>\n",
       "    <tr>\n",
       "      <th>268</th>\n",
       "      <td>UNIÓN EUROPEA</td>\n",
       "      <td>54</td>\n",
       "    </tr>\n",
       "    <tr>\n",
       "      <th>273</th>\n",
       "      <td>VENEZUELA</td>\n",
       "      <td>67</td>\n",
       "    </tr>\n",
       "  </tbody>\n",
       "</table>\n",
       "</div>"
      ],
      "text/plain": [
       "                             Estados-Organismos  Acuerdos\n",
       "4                                      ALEMANIA       161\n",
       "39                                       BRASIL       139\n",
       "53                                        CHILE        57\n",
       "78                            COMUNIDAD EUROPEA        60\n",
       "98                                      ECUADOR       101\n",
       "111                                      ESPAÑA        55\n",
       "112                   ESTADOS UNIDOS DE AMERICA       256\n",
       "149                                      ITALIA        53\n",
       "151                                       JAPON        65\n",
       "189      ORGANIZACIÓN DE ESTADOS AMERICANOS-OEA       115\n",
       "196     ORGANIZACIÓN DE LAS NACIONES UNIDAS-ONU       160\n",
       "204  ORGANIZACIÓN INTERNACIONAL DEL TRABAJO-OIT        71\n",
       "209     ORGANIZACIÓN MARITIMA INTERNACIONAL-OMI        56\n",
       "222                                PAISES BAJOS        57\n",
       "226                                        PERU        87\n",
       "268                               UNIÓN EUROPEA        54\n",
       "273                                   VENEZUELA        67"
      ]
     },
     "execution_count": 21,
     "metadata": {},
     "output_type": "execute_result"
    }
   ],
   "source": [
    "prueba3=prueba2[prueba2['Acuerdos']>50]\n",
    "prueba3[['Estados-Organismos','Acuerdos']]"
   ]
  },
  {
   "cell_type": "code",
   "execution_count": 22,
   "metadata": {
    "collapsed": true
   },
   "outputs": [
    {
     "data": {
      "image/png": "[encoded data removed]",
      "text/plain": [
       "<Figure size 1080x576 with 1 Axes>"
      ]
     },
     "metadata": {},
     "output_type": "display_data"
    }
   ],
   "source": [
    "\n",
    "plt.figure(figsize=(15,8))\n",
    "palette_color = sns.color_palette('pastel')\n",
    "plt.pie(prueba3['Acuerdos'],labels=prueba3['Estados-Organismos'] ,colors=palette_color,\n",
    "         autopct='%.0f%%')\n",
    "plt.title('Distribucion de Tratados internacionales superiores 50')\n",
    "\n",
    "plt.show()"
   ]
  },
  {
   "cell_type": "markdown",
   "metadata": {},
   "source": [
    "-> Colombia hace Acuerdos con grandes potencias, organizaciones internacionales y paises vecinos principalmente"
   ]
  },
  {
   "cell_type": "code",
   "execution_count": 23,
   "metadata": {
    "collapsed": true
   },
   "outputs": [
    {
     "name": "stdout",
     "output_type": "stream",
     "text": [
      "   Estados-Organismos Vigente\n",
      "0                 885      NO\n",
      "1                2137      SI\n"
     ]
    },
    {
     "data": {
      "text/plain": [
       "<Figure size 432x288 with 0 Axes>"
      ]
     },
     "metadata": {},
     "output_type": "display_data"
    },
    {
     "data": {
      "text/plain": [
       "<Figure size 1080x576 with 0 Axes>"
      ]
     },
     "metadata": {},
     "output_type": "display_data"
    },
    {
     "data": {
      "image/png": "[encoded data removed]",
      "text/plain": [
       "<Figure size 360x360 with 1 Axes>"
      ]
     },
     "metadata": {},
     "output_type": "display_data"
    }
   ],
   "source": [
    "print(prueba4[['Estados-Organismos','Vigente']])\n",
    "sns.despine(left=True)\n",
    "plt.figure(figsize=(15,8))\n",
    "sns.set_style(\"darkgrid\", {\"axes.facecolor\": \".9\"})\n",
    "sns.set_context(\"paper\")\n",
    "g=sns.catplot(data=prueba4,x='Vigente',y='Estados-Organismos',kind='bar',ci=None)\n",
    "#g.set_xticklabels(rotation=90) \n",
    "ax = g.facet_axis(0, 0)\n",
    "    \n",
    "    # add annotations\n",
    "for c in ax.containers:\n",
    "    labels = [f'{(v.get_height()):.0f}' for v in c]\n",
    "    ax.bar_label(c, labels=labels, label_type='edge')\n",
    "#g.set(xlabel='Tipo de instituion academica ', ylabel='Numero de estudiantes ')\n",
    "plt.title('Cantidad de tratados vigentes')\n",
    "plt.show()"
   ]
  },
  {
   "cell_type": "code",
   "execution_count": 24,
   "metadata": {
    "collapsed": true
   },
   "outputs": [
    {
     "data": {
      "text/plain": [
       "Text(0.5, 1.0, 'Cantidad de tratados por año')"
      ]
     },
     "execution_count": 24,
     "metadata": {},
     "output_type": "execute_result"
    },
    {
     "data": {
      "image/png": "[encoded data removed]",
      "text/plain": [
       "<Figure size 1080x576 with 1 Axes>"
      ]
     },
     "metadata": {},
     "output_type": "display_data"
    }
   ],
   "source": [
    "plt.figure(figsize=(15,8))\n",
    "sns.set_style(\"darkgrid\", {\"axes.facecolor\": \".9\"})\n",
    "sns.set_context(\"paper\")\n",
    "g= sns.lineplot(data=prueba8,x='Anio_Adopcion',y='Vigente',ci=None)\n",
    "g.set(xlabel='Año',ylabel='Numero de tratados')\n",
    "plt.title('Cantidad de tratados por año')"
   ]
  },
  {
   "cell_type": "markdown",
   "metadata": {},
   "source": [
    "-> en los años 90 surge un pico en los acuerdos adoptados debido a la apertura economica que tuvo colombia y la correspondiente caida de estos en años posteriores"
   ]
  },
  {
   "cell_type": "code",
   "execution_count": 25,
   "metadata": {
    "collapsed": true
   },
   "outputs": [
    {
     "data": {
      "text/plain": [
       "Text(0.5, 1.0, 'Cantidad de tratados vigentes y no vigentes por año')"
      ]
     },
     "execution_count": 25,
     "metadata": {},
     "output_type": "execute_result"
    },
    {
     "data": {
      "image/png": "[encoded data removed]",
      "text/plain": [
       "<Figure size 1080x576 with 1 Axes>"
      ]
     },
     "metadata": {},
     "output_type": "display_data"
    }
   ],
   "source": [
    "plt.figure(figsize=(15,8))\n",
    "sns.set_style(\"darkgrid\", {\"axes.facecolor\": \".9\"})\n",
    "sns.set_context(\"paper\")\n",
    "g= sns.lineplot(data=prueba1,x='Anio_Adopcion',y='Bilateral',ci=None,hue='Vigente')\n",
    "g.set(xlabel='Año',ylabel='Numero de tratados')\n",
    "plt.title('Cantidad de tratados vigentes y no vigentes por año')"
   ]
  },
  {
   "cell_type": "markdown",
   "metadata": {},
   "source": [
    "->Colombia tiene mantiene una balanza positiva en cuanto a la retencion de acuerdos"
   ]
  },
  {
   "cell_type": "code",
   "execution_count": 26,
   "metadata": {},
   "outputs": [],
   "source": [
    "prueba6=Datos"
   ]
  },
  {
   "cell_type": "code",
   "execution_count": 27,
   "metadata": {
    "scrolled": true
   },
   "outputs": [
    {
     "name": "stderr",
     "output_type": "stream",
     "text": [
      "C:\\Users\\Usuario\\AppData\\Local\\Temp/ipykernel_14696/1684386084.py:1: SettingWithCopyWarning: \n",
      "A value is trying to be set on a copy of a slice from a DataFrame.\n",
      "Try using .loc[row_indexer,col_indexer] = value instead\n",
      "\n",
      "See the caveats in the documentation: https://pandas.pydata.org/pandas-docs/stable/user_guide/indexing.html#returning-a-view-versus-a-copy\n",
      "  prueba6['diferencia']=prueba6['Anio_Aprobacion']-prueba6['Anio_Adopcion']\n"
     ]
    }
   ],
   "source": [
    "prueba6['diferencia']=prueba6['Anio_Aprobacion']-prueba6['Anio_Adopcion']"
   ]
  },
  {
   "cell_type": "code",
   "execution_count": 28,
   "metadata": {},
   "outputs": [
    {
     "name": "stderr",
     "output_type": "stream",
     "text": [
      "C:\\Users\\Usuario\\AppData\\Local\\Temp/ipykernel_14696/1082413340.py:1: SettingWithCopyWarning: \n",
      "A value is trying to be set on a copy of a slice from a DataFrame.\n",
      "Try using .loc[row_indexer,col_indexer] = value instead\n",
      "\n",
      "See the caveats in the documentation: https://pandas.pydata.org/pandas-docs/stable/user_guide/indexing.html#returning-a-view-versus-a-copy\n",
      "  prueba6['diferencia']=prueba6['diferencia'].fillna(0)\n"
     ]
    }
   ],
   "source": [
    "prueba6['diferencia']=prueba6['diferencia'].fillna(0)"
   ]
  },
  {
   "cell_type": "code",
   "execution_count": 29,
   "metadata": {
    "collapsed": true
   },
   "outputs": [
    {
     "data": {
      "text/html": [
       "<div>\n",
       "<style scoped>\n",
       "    .dataframe tbody tr th:only-of-type {\n",
       "        vertical-align: middle;\n",
       "    }\n",
       "\n",
       "    .dataframe tbody tr th {\n",
       "        vertical-align: top;\n",
       "    }\n",
       "\n",
       "    .dataframe thead th {\n",
       "        text-align: right;\n",
       "    }\n",
       "</style>\n",
       "<table border=\"1\" class=\"dataframe\">\n",
       "  <thead>\n",
       "    <tr style=\"text-align: right;\">\n",
       "      <th></th>\n",
       "      <th>Anio_Aprobacion</th>\n",
       "      <th>Anio_Adopcion</th>\n",
       "      <th>diferencia</th>\n",
       "    </tr>\n",
       "  </thead>\n",
       "  <tbody>\n",
       "    <tr>\n",
       "      <th>0</th>\n",
       "      <td>1931.0</td>\n",
       "      <td>1928.0</td>\n",
       "      <td>3.0</td>\n",
       "    </tr>\n",
       "    <tr>\n",
       "      <th>1</th>\n",
       "      <td>1928.0</td>\n",
       "      <td>1928.0</td>\n",
       "      <td>0.0</td>\n",
       "    </tr>\n",
       "    <tr>\n",
       "      <th>2</th>\n",
       "      <td>1989.0</td>\n",
       "      <td>1988.0</td>\n",
       "      <td>1.0</td>\n",
       "    </tr>\n",
       "    <tr>\n",
       "      <th>3</th>\n",
       "      <td>NaN</td>\n",
       "      <td>1991.0</td>\n",
       "      <td>0.0</td>\n",
       "    </tr>\n",
       "    <tr>\n",
       "      <th>4</th>\n",
       "      <td>NaN</td>\n",
       "      <td>2017.0</td>\n",
       "      <td>0.0</td>\n",
       "    </tr>\n",
       "    <tr>\n",
       "      <th>...</th>\n",
       "      <td>...</td>\n",
       "      <td>...</td>\n",
       "      <td>...</td>\n",
       "    </tr>\n",
       "    <tr>\n",
       "      <th>58073</th>\n",
       "      <td>NaN</td>\n",
       "      <td>2020.0</td>\n",
       "      <td>0.0</td>\n",
       "    </tr>\n",
       "    <tr>\n",
       "      <th>64506</th>\n",
       "      <td>NaN</td>\n",
       "      <td>2019.0</td>\n",
       "      <td>0.0</td>\n",
       "    </tr>\n",
       "    <tr>\n",
       "      <th>65016</th>\n",
       "      <td>NaN</td>\n",
       "      <td>2018.0</td>\n",
       "      <td>0.0</td>\n",
       "    </tr>\n",
       "    <tr>\n",
       "      <th>65053</th>\n",
       "      <td>NaN</td>\n",
       "      <td>2017.0</td>\n",
       "      <td>0.0</td>\n",
       "    </tr>\n",
       "    <tr>\n",
       "      <th>67366</th>\n",
       "      <td>2019.0</td>\n",
       "      <td>2012.0</td>\n",
       "      <td>7.0</td>\n",
       "    </tr>\n",
       "  </tbody>\n",
       "</table>\n",
       "<p>3022 rows × 3 columns</p>\n",
       "</div>"
      ],
      "text/plain": [
       "       Anio_Aprobacion  Anio_Adopcion  diferencia\n",
       "0               1931.0         1928.0         3.0\n",
       "1               1928.0         1928.0         0.0\n",
       "2               1989.0         1988.0         1.0\n",
       "3                  NaN         1991.0         0.0\n",
       "4                  NaN         2017.0         0.0\n",
       "...                ...            ...         ...\n",
       "58073              NaN         2020.0         0.0\n",
       "64506              NaN         2019.0         0.0\n",
       "65016              NaN         2018.0         0.0\n",
       "65053              NaN         2017.0         0.0\n",
       "67366           2019.0         2012.0         7.0\n",
       "\n",
       "[3022 rows x 3 columns]"
      ]
     },
     "execution_count": 29,
     "metadata": {},
     "output_type": "execute_result"
    }
   ],
   "source": [
    "prueba6[['Anio_Aprobacion','Anio_Adopcion','diferencia']]"
   ]
  },
  {
   "cell_type": "code",
   "execution_count": 30,
   "metadata": {},
   "outputs": [],
   "source": [
    "prueba6['diferencia'].value_counts()\n",
    "promedios=prueba6"
   ]
  },
  {
   "cell_type": "code",
   "execution_count": 67,
   "metadata": {},
   "outputs": [],
   "source": [
    "p=promedios[promedios['diferencia']>0]\n"
   ]
  },
  {
   "cell_type": "code",
   "execution_count": 68,
   "metadata": {},
   "outputs": [],
   "source": [
    "promedio=p[p['diferencia']<50]"
   ]
  },
  {
   "cell_type": "markdown",
   "metadata": {},
   "source": [
    "->Se noto que hay datos con diferencias de aprobacion mucho mayores a sus fechas de adopcion y surge la pregunta, por que hay acuerdos que se demoran tanto en aprobarse, seria bueno un analisis de un experto sobre el tema."
   ]
  },
  {
   "cell_type": "code",
   "execution_count": 32,
   "metadata": {
    "collapsed": true
   },
   "outputs": [
    {
     "data": {
      "text/html": [
       "<div>\n",
       "<style scoped>\n",
       "    .dataframe tbody tr th:only-of-type {\n",
       "        vertical-align: middle;\n",
       "    }\n",
       "\n",
       "    .dataframe tbody tr th {\n",
       "        vertical-align: top;\n",
       "    }\n",
       "\n",
       "    .dataframe thead th {\n",
       "        text-align: right;\n",
       "    }\n",
       "</style>\n",
       "<table border=\"1\" class=\"dataframe\">\n",
       "  <thead>\n",
       "    <tr style=\"text-align: right;\">\n",
       "      <th></th>\n",
       "      <th>Estados-Organismos</th>\n",
       "      <th>Depositario</th>\n",
       "      <th>Fecha Ley Aprobatoria</th>\n",
       "      <th>Vigente</th>\n",
       "      <th>Bilateral</th>\n",
       "      <th>Fecha de Adopcion</th>\n",
       "      <th>Anio_Aprobacion</th>\n",
       "      <th>Anio_Adopcion</th>\n",
       "      <th>diferencia</th>\n",
       "    </tr>\n",
       "  </thead>\n",
       "  <tbody>\n",
       "    <tr>\n",
       "      <th>114</th>\n",
       "      <td>ARGENTINABOLIVIABRASILCHILEPARAGUAYPERUURUGUAY</td>\n",
       "      <td>URUGUAY</td>\n",
       "      <td>1992-12-30</td>\n",
       "      <td>SI</td>\n",
       "      <td>NO</td>\n",
       "      <td>1889-02-12</td>\n",
       "      <td>1992.0</td>\n",
       "      <td>1889.0</td>\n",
       "      <td>103.0</td>\n",
       "    </tr>\n",
       "    <tr>\n",
       "      <th>277</th>\n",
       "      <td>OFICINA INTERNACIONAL DE PESAS Y MEDIDAS-BIPM</td>\n",
       "      <td>FRANCIA</td>\n",
       "      <td>2012-02-06</td>\n",
       "      <td>NO</td>\n",
       "      <td>NO</td>\n",
       "      <td>1875-05-20</td>\n",
       "      <td>2012.0</td>\n",
       "      <td>1875.0</td>\n",
       "      <td>137.0</td>\n",
       "    </tr>\n",
       "    <tr>\n",
       "      <th>693</th>\n",
       "      <td>ORGANIZACIÓN MUNDIAL DE LA PROPIEDAD INTELECTU...</td>\n",
       "      <td>SUECIA</td>\n",
       "      <td>1995-08-30</td>\n",
       "      <td>SI</td>\n",
       "      <td>NO</td>\n",
       "      <td>1883-03-20</td>\n",
       "      <td>1995.0</td>\n",
       "      <td>1883.0</td>\n",
       "      <td>112.0</td>\n",
       "    </tr>\n",
       "    <tr>\n",
       "      <th>1635</th>\n",
       "      <td>ORGANIZACIÓN DE ESTADOS AMERICANOS-OEA</td>\n",
       "      <td>URUGUAY</td>\n",
       "      <td>1992-12-30</td>\n",
       "      <td>SI</td>\n",
       "      <td>NO</td>\n",
       "      <td>1889-02-12</td>\n",
       "      <td>1992.0</td>\n",
       "      <td>1889.0</td>\n",
       "      <td>103.0</td>\n",
       "    </tr>\n",
       "  </tbody>\n",
       "</table>\n",
       "</div>"
      ],
      "text/plain": [
       "                                     Estados-Organismos Depositario  \\\n",
       "114      ARGENTINABOLIVIABRASILCHILEPARAGUAYPERUURUGUAY     URUGUAY   \n",
       "277       OFICINA INTERNACIONAL DE PESAS Y MEDIDAS-BIPM     FRANCIA   \n",
       "693   ORGANIZACIÓN MUNDIAL DE LA PROPIEDAD INTELECTU...      SUECIA   \n",
       "1635             ORGANIZACIÓN DE ESTADOS AMERICANOS-OEA     URUGUAY   \n",
       "\n",
       "     Fecha Ley Aprobatoria Vigente Bilateral Fecha de Adopcion  \\\n",
       "114             1992-12-30      SI        NO        1889-02-12   \n",
       "277             2012-02-06      NO        NO        1875-05-20   \n",
       "693             1995-08-30      SI        NO        1883-03-20   \n",
       "1635            1992-12-30      SI        NO        1889-02-12   \n",
       "\n",
       "      Anio_Aprobacion  Anio_Adopcion  diferencia  \n",
       "114            1992.0         1889.0       103.0  \n",
       "277            2012.0         1875.0       137.0  \n",
       "693            1995.0         1883.0       112.0  \n",
       "1635           1992.0         1889.0       103.0  "
      ]
     },
     "execution_count": 32,
     "metadata": {},
     "output_type": "execute_result"
    }
   ],
   "source": [
    "prueba6[prueba6['diferencia']>100]"
   ]
  },
  {
   "cell_type": "markdown",
   "metadata": {},
   "source": [
    "-> este ejemplo concreto muestra que hay fechas de aprobacion que estan erroneas, pues este acuerdo fue aprobado en el 2001"
   ]
  },
  {
   "cell_type": "code",
   "execution_count": 33,
   "metadata": {
    "scrolled": false
   },
   "outputs": [
    {
     "data": {
      "text/html": [
       "<div>\n",
       "<style scoped>\n",
       "    .dataframe tbody tr th:only-of-type {\n",
       "        vertical-align: middle;\n",
       "    }\n",
       "\n",
       "    .dataframe tbody tr th {\n",
       "        vertical-align: top;\n",
       "    }\n",
       "\n",
       "    .dataframe thead th {\n",
       "        text-align: right;\n",
       "    }\n",
       "</style>\n",
       "<table border=\"1\" class=\"dataframe\">\n",
       "  <thead>\n",
       "    <tr style=\"text-align: right;\">\n",
       "      <th></th>\n",
       "      <th>Estados-Organismos</th>\n",
       "      <th>Depositario</th>\n",
       "      <th>Fecha Ley Aprobatoria</th>\n",
       "      <th>Vigente</th>\n",
       "      <th>Bilateral</th>\n",
       "      <th>Fecha de Adopcion</th>\n",
       "      <th>Anio_Aprobacion</th>\n",
       "      <th>Anio_Adopcion</th>\n",
       "      <th>diferencia</th>\n",
       "    </tr>\n",
       "  </thead>\n",
       "  <tbody>\n",
       "    <tr>\n",
       "      <th>1250</th>\n",
       "      <td>ORGANIZACIÓN DE AVIACION CIVIL INTERNACIONAL-OACI</td>\n",
       "      <td>ORGANIZACIÓN DE AVIACION CIVIL INTERNACIONAL-OACI</td>\n",
       "      <td>1971-11-21</td>\n",
       "      <td>SI</td>\n",
       "      <td>NO</td>\n",
       "      <td>1999-05-28</td>\n",
       "      <td>1971.0</td>\n",
       "      <td>1999.0</td>\n",
       "      <td>-28.0</td>\n",
       "    </tr>\n",
       "  </tbody>\n",
       "</table>\n",
       "</div>"
      ],
      "text/plain": [
       "                                     Estados-Organismos  \\\n",
       "1250  ORGANIZACIÓN DE AVIACION CIVIL INTERNACIONAL-OACI   \n",
       "\n",
       "                                            Depositario Fecha Ley Aprobatoria  \\\n",
       "1250  ORGANIZACIÓN DE AVIACION CIVIL INTERNACIONAL-OACI            1971-11-21   \n",
       "\n",
       "     Vigente Bilateral Fecha de Adopcion  Anio_Aprobacion  Anio_Adopcion  \\\n",
       "1250      SI        NO        1999-05-28           1971.0         1999.0   \n",
       "\n",
       "      diferencia  \n",
       "1250       -28.0  "
      ]
     },
     "execution_count": 33,
     "metadata": {},
     "output_type": "execute_result"
    }
   ],
   "source": [
    "prueba6[prueba6['diferencia']==-28.0]"
   ]
  },
  {
   "cell_type": "code",
   "execution_count": 73,
   "metadata": {},
   "outputs": [
    {
     "data": {
      "text/plain": [
       "Text(0.5, 1.0, 'Distribucion de la diferencia entre la aprobacion y la adopcion de los tratados')"
      ]
     },
     "execution_count": 73,
     "metadata": {},
     "output_type": "execute_result"
    },
    {
     "data": {
      "image/png": "[encoded data removed]",
      "text/plain": [
       "<Figure size 1080x576 with 1 Axes>"
      ]
     },
     "metadata": {},
     "output_type": "display_data"
    }
   ],
   "source": [
    "plt.figure(figsize=(15,8))\n",
    "sns.boxenplot(x=promedio['diferencia'])\n",
    "plt.title('Distribucion de la diferencia entre la aprobacion y la adopcion de los tratados')"
   ]
  },
  {
   "cell_type": "code",
   "execution_count": 35,
   "metadata": {
    "collapsed": true
   },
   "outputs": [
    {
     "data": {
      "text/html": [
       "<style type=\"text/css\">\n",
       "#T_0d7d2_row0_col0, #T_0d7d2_row1_col1, #T_0d7d2_row2_col2 {\n",
       "  background-color: #023858;\n",
       "  color: #f1f1f1;\n",
       "}\n",
       "#T_0d7d2_row0_col1 {\n",
       "  background-color: #034973;\n",
       "  color: #f1f1f1;\n",
       "}\n",
       "#T_0d7d2_row0_col2 {\n",
       "  background-color: #b7c5df;\n",
       "  color: #000000;\n",
       "}\n",
       "#T_0d7d2_row1_col0 {\n",
       "  background-color: #045382;\n",
       "  color: #f1f1f1;\n",
       "}\n",
       "#T_0d7d2_row1_col2, #T_0d7d2_row2_col0, #T_0d7d2_row2_col1 {\n",
       "  background-color: #fff7fb;\n",
       "  color: #000000;\n",
       "}\n",
       "</style>\n",
       "<table id=\"T_0d7d2_\">\n",
       "  <thead>\n",
       "    <tr>\n",
       "      <th class=\"blank level0\" >&nbsp;</th>\n",
       "      <th class=\"col_heading level0 col0\" >Anio_Aprobacion</th>\n",
       "      <th class=\"col_heading level0 col1\" >Anio_Adopcion</th>\n",
       "      <th class=\"col_heading level0 col2\" >diferencia</th>\n",
       "    </tr>\n",
       "  </thead>\n",
       "  <tbody>\n",
       "    <tr>\n",
       "      <th id=\"T_0d7d2_level0_row0\" class=\"row_heading level0 row0\" >Anio_Aprobacion</th>\n",
       "      <td id=\"T_0d7d2_row0_col0\" class=\"data row0 col0\" >1.000000</td>\n",
       "      <td id=\"T_0d7d2_row0_col1\" class=\"data row0 col1\" >0.916000</td>\n",
       "      <td id=\"T_0d7d2_row0_col2\" class=\"data row0 col2\" >0.142000</td>\n",
       "    </tr>\n",
       "    <tr>\n",
       "      <th id=\"T_0d7d2_level0_row1\" class=\"row_heading level0 row1\" >Anio_Adopcion</th>\n",
       "      <td id=\"T_0d7d2_row1_col0\" class=\"data row1 col0\" >0.916000</td>\n",
       "      <td id=\"T_0d7d2_row1_col1\" class=\"data row1 col1\" >1.000000</td>\n",
       "      <td id=\"T_0d7d2_row1_col2\" class=\"data row1 col2\" >-0.273000</td>\n",
       "    </tr>\n",
       "    <tr>\n",
       "      <th id=\"T_0d7d2_level0_row2\" class=\"row_heading level0 row2\" >diferencia</th>\n",
       "      <td id=\"T_0d7d2_row2_col0\" class=\"data row2 col0\" >0.142000</td>\n",
       "      <td id=\"T_0d7d2_row2_col1\" class=\"data row2 col1\" >-0.273000</td>\n",
       "      <td id=\"T_0d7d2_row2_col2\" class=\"data row2 col2\" >1.000000</td>\n",
       "    </tr>\n",
       "  </tbody>\n",
       "</table>\n"
      ],
      "text/plain": [
       "<pandas.io.formats.style.Styler at 0x25279dd7130>"
      ]
     },
     "execution_count": 35,
     "metadata": {},
     "output_type": "execute_result"
    }
   ],
   "source": [
    "corr= round(Datos.corr(),3)\n",
    "corr.style.background_gradient()"
   ]
  },
  {
   "cell_type": "code",
   "execution_count": 72,
   "metadata": {
    "scrolled": false
   },
   "outputs": [
    {
     "name": "stdout",
     "output_type": "stream",
     "text": [
      "Media 6.469017094017094\n",
      "Moda 0    2.0\n",
      "dtype: float64\n",
      "Desviacion estandar 7.721011092784072\n"
     ]
    }
   ],
   "source": [
    "print('Media',promedio['diferencia'].mean())\n",
    "print('Moda',promedio['diferencia'].mode())\n",
    "print('Desviacion estandar', promedio['diferencia'].std())"
   ]
  },
  {
   "cell_type": "markdown",
   "metadata": {},
   "source": [
    "-> Durante el analisis estadistico es visible ver la demora en la aprobacion de los acuerdos ya sea debido a burocracia, se puede notar el promedio de aprobacion de los acuerdos es de casi 6 años pero se nota que lo mas normal es que se aprueben en 2 con una desviacion estandar elevada debido a datos extremos, ."
   ]
  }
 ],
 "metadata": {
  "kernelspec": {
   "display_name": "Python 3 (ipykernel)",
   "language": "python",
   "name": "python3"
  },
  "language_info": {
   "codemirror_mode": {
    "name": "ipython",
    "version": 3
   },
   "file_extension": ".py",
   "mimetype": "text/x-python",
   "name": "python",
   "nbconvert_exporter": "python",
   "pygments_lexer": "ipython3",
   "version": "3.9.7"
  }
 },
 "nbformat": 4,
 "nbformat_minor": 2
}
